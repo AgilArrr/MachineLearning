{
  "nbformat": 4,
  "nbformat_minor": 0,
  "metadata": {
    "colab": {
      "provenance": [],
      "authorship_tag": "ABX9TyMM0iRBXVsfEBTipLCpcAre",
      "include_colab_link": true
    },
    "kernelspec": {
      "name": "python3",
      "display_name": "Python 3"
    },
    "language_info": {
      "name": "python"
    }
  },
  "cells": [
    {
      "cell_type": "markdown",
      "metadata": {
        "id": "view-in-github",
        "colab_type": "text"
      },
      "source": [
        "<a href=\"https://colab.research.google.com/github/AgilArrr/MachineLearning/blob/main/TG1_2341720130_Abdillah_Agil_Arbiansyah.ipynb\" target=\"_parent\"><img src=\"https://colab.research.google.com/assets/colab-badge.svg\" alt=\"Open In Colab\"/></a>"
      ]
    },
    {
      "cell_type": "code",
      "execution_count": null,
      "metadata": {
        "id": "vhWwKMgOdVBA",
        "colab": {
          "base_uri": "https://localhost:8080/"
        },
        "outputId": "ce60ee42-c859-49e8-c200-33576a6f0972"
      },
      "outputs": [
        {
          "output_type": "stream",
          "name": "stdout",
          "text": [
            "Collecting mne\n",
            "  Downloading mne-1.10.1-py3-none-any.whl.metadata (20 kB)\n",
            "Requirement already satisfied: decorator in /usr/local/lib/python3.12/dist-packages (from mne) (4.4.2)\n",
            "Requirement already satisfied: jinja2 in /usr/local/lib/python3.12/dist-packages (from mne) (3.1.6)\n",
            "Requirement already satisfied: lazy-loader>=0.3 in /usr/local/lib/python3.12/dist-packages (from mne) (0.4)\n",
            "Requirement already satisfied: matplotlib>=3.7 in /usr/local/lib/python3.12/dist-packages (from mne) (3.10.0)\n",
            "Requirement already satisfied: numpy<3,>=1.25 in /usr/local/lib/python3.12/dist-packages (from mne) (2.0.2)\n",
            "Requirement already satisfied: packaging in /usr/local/lib/python3.12/dist-packages (from mne) (25.0)\n",
            "Requirement already satisfied: pooch>=1.5 in /usr/local/lib/python3.12/dist-packages (from mne) (1.8.2)\n",
            "Requirement already satisfied: scipy>=1.11 in /usr/local/lib/python3.12/dist-packages (from mne) (1.16.1)\n",
            "Requirement already satisfied: tqdm in /usr/local/lib/python3.12/dist-packages (from mne) (4.67.1)\n",
            "Requirement already satisfied: contourpy>=1.0.1 in /usr/local/lib/python3.12/dist-packages (from matplotlib>=3.7->mne) (1.3.3)\n",
            "Requirement already satisfied: cycler>=0.10 in /usr/local/lib/python3.12/dist-packages (from matplotlib>=3.7->mne) (0.12.1)\n",
            "Requirement already satisfied: fonttools>=4.22.0 in /usr/local/lib/python3.12/dist-packages (from matplotlib>=3.7->mne) (4.59.2)\n",
            "Requirement already satisfied: kiwisolver>=1.3.1 in /usr/local/lib/python3.12/dist-packages (from matplotlib>=3.7->mne) (1.4.9)\n",
            "Requirement already satisfied: pillow>=8 in /usr/local/lib/python3.12/dist-packages (from matplotlib>=3.7->mne) (11.3.0)\n",
            "Requirement already satisfied: pyparsing>=2.3.1 in /usr/local/lib/python3.12/dist-packages (from matplotlib>=3.7->mne) (3.2.3)\n",
            "Requirement already satisfied: python-dateutil>=2.7 in /usr/local/lib/python3.12/dist-packages (from matplotlib>=3.7->mne) (2.9.0.post0)\n",
            "Requirement already satisfied: platformdirs>=2.5.0 in /usr/local/lib/python3.12/dist-packages (from pooch>=1.5->mne) (4.4.0)\n",
            "Requirement already satisfied: requests>=2.19.0 in /usr/local/lib/python3.12/dist-packages (from pooch>=1.5->mne) (2.32.4)\n",
            "Requirement already satisfied: MarkupSafe>=2.0 in /usr/local/lib/python3.12/dist-packages (from jinja2->mne) (3.0.2)\n",
            "Requirement already satisfied: six>=1.5 in /usr/local/lib/python3.12/dist-packages (from python-dateutil>=2.7->matplotlib>=3.7->mne) (1.17.0)\n",
            "Requirement already satisfied: charset_normalizer<4,>=2 in /usr/local/lib/python3.12/dist-packages (from requests>=2.19.0->pooch>=1.5->mne) (3.4.3)\n",
            "Requirement already satisfied: idna<4,>=2.5 in /usr/local/lib/python3.12/dist-packages (from requests>=2.19.0->pooch>=1.5->mne) (3.10)\n",
            "Requirement already satisfied: urllib3<3,>=1.21.1 in /usr/local/lib/python3.12/dist-packages (from requests>=2.19.0->pooch>=1.5->mne) (2.5.0)\n",
            "Requirement already satisfied: certifi>=2017.4.17 in /usr/local/lib/python3.12/dist-packages (from requests>=2.19.0->pooch>=1.5->mne) (2025.8.3)\n",
            "Downloading mne-1.10.1-py3-none-any.whl (7.4 MB)\n",
            "\u001b[2K   \u001b[90m━━━━━━━━━━━━━━━━━━━━━━━━━━━━━━━━━━━━━━━━\u001b[0m \u001b[32m7.4/7.4 MB\u001b[0m \u001b[31m43.3 MB/s\u001b[0m eta \u001b[36m0:00:00\u001b[0m\n",
            "\u001b[?25hInstalling collected packages: mne\n",
            "Successfully installed mne-1.10.1\n"
          ]
        }
      ],
      "source": [
        "!pip install mne"
      ]
    },
    {
      "cell_type": "markdown",
      "source": [
        "# Bagian 1\n"
      ],
      "metadata": {
        "id": "NPncLRR2pFPg"
      }
    },
    {
      "cell_type": "code",
      "source": [
        "!pip install PyPREP\n"
      ],
      "metadata": {
        "colab": {
          "base_uri": "https://localhost:8080/"
        },
        "id": "wnycxWcWmKgO",
        "outputId": "4c763c22-4290-4dea-ac38-2516e5b9fee9"
      },
      "execution_count": null,
      "outputs": [
        {
          "output_type": "stream",
          "name": "stdout",
          "text": [
            "Collecting PyPREP\n",
            "  Downloading pyprep-0.5.0-py3-none-any.whl.metadata (7.3 kB)\n",
            "Requirement already satisfied: mne>=1.3.0 in /usr/local/lib/python3.12/dist-packages (from PyPREP) (1.10.1)\n",
            "Requirement already satisfied: numpy>=1.20.2 in /usr/local/lib/python3.12/dist-packages (from PyPREP) (2.0.2)\n",
            "Requirement already satisfied: psutil>=5.4.3 in /usr/local/lib/python3.12/dist-packages (from PyPREP) (5.9.5)\n",
            "Requirement already satisfied: scipy>=1.6.3 in /usr/local/lib/python3.12/dist-packages (from PyPREP) (1.16.1)\n",
            "Requirement already satisfied: decorator in /usr/local/lib/python3.12/dist-packages (from mne>=1.3.0->PyPREP) (4.4.2)\n",
            "Requirement already satisfied: jinja2 in /usr/local/lib/python3.12/dist-packages (from mne>=1.3.0->PyPREP) (3.1.6)\n",
            "Requirement already satisfied: lazy-loader>=0.3 in /usr/local/lib/python3.12/dist-packages (from mne>=1.3.0->PyPREP) (0.4)\n",
            "Requirement already satisfied: matplotlib>=3.7 in /usr/local/lib/python3.12/dist-packages (from mne>=1.3.0->PyPREP) (3.10.0)\n",
            "Requirement already satisfied: packaging in /usr/local/lib/python3.12/dist-packages (from mne>=1.3.0->PyPREP) (25.0)\n",
            "Requirement already satisfied: pooch>=1.5 in /usr/local/lib/python3.12/dist-packages (from mne>=1.3.0->PyPREP) (1.8.2)\n",
            "Requirement already satisfied: tqdm in /usr/local/lib/python3.12/dist-packages (from mne>=1.3.0->PyPREP) (4.67.1)\n",
            "Requirement already satisfied: contourpy>=1.0.1 in /usr/local/lib/python3.12/dist-packages (from matplotlib>=3.7->mne>=1.3.0->PyPREP) (1.3.3)\n",
            "Requirement already satisfied: cycler>=0.10 in /usr/local/lib/python3.12/dist-packages (from matplotlib>=3.7->mne>=1.3.0->PyPREP) (0.12.1)\n",
            "Requirement already satisfied: fonttools>=4.22.0 in /usr/local/lib/python3.12/dist-packages (from matplotlib>=3.7->mne>=1.3.0->PyPREP) (4.59.2)\n",
            "Requirement already satisfied: kiwisolver>=1.3.1 in /usr/local/lib/python3.12/dist-packages (from matplotlib>=3.7->mne>=1.3.0->PyPREP) (1.4.9)\n",
            "Requirement already satisfied: pillow>=8 in /usr/local/lib/python3.12/dist-packages (from matplotlib>=3.7->mne>=1.3.0->PyPREP) (11.3.0)\n",
            "Requirement already satisfied: pyparsing>=2.3.1 in /usr/local/lib/python3.12/dist-packages (from matplotlib>=3.7->mne>=1.3.0->PyPREP) (3.2.3)\n",
            "Requirement already satisfied: python-dateutil>=2.7 in /usr/local/lib/python3.12/dist-packages (from matplotlib>=3.7->mne>=1.3.0->PyPREP) (2.9.0.post0)\n",
            "Requirement already satisfied: platformdirs>=2.5.0 in /usr/local/lib/python3.12/dist-packages (from pooch>=1.5->mne>=1.3.0->PyPREP) (4.4.0)\n",
            "Requirement already satisfied: requests>=2.19.0 in /usr/local/lib/python3.12/dist-packages (from pooch>=1.5->mne>=1.3.0->PyPREP) (2.32.4)\n",
            "Requirement already satisfied: MarkupSafe>=2.0 in /usr/local/lib/python3.12/dist-packages (from jinja2->mne>=1.3.0->PyPREP) (3.0.2)\n",
            "Requirement already satisfied: six>=1.5 in /usr/local/lib/python3.12/dist-packages (from python-dateutil>=2.7->matplotlib>=3.7->mne>=1.3.0->PyPREP) (1.17.0)\n",
            "Requirement already satisfied: charset_normalizer<4,>=2 in /usr/local/lib/python3.12/dist-packages (from requests>=2.19.0->pooch>=1.5->mne>=1.3.0->PyPREP) (3.4.3)\n",
            "Requirement already satisfied: idna<4,>=2.5 in /usr/local/lib/python3.12/dist-packages (from requests>=2.19.0->pooch>=1.5->mne>=1.3.0->PyPREP) (3.10)\n",
            "Requirement already satisfied: urllib3<3,>=1.21.1 in /usr/local/lib/python3.12/dist-packages (from requests>=2.19.0->pooch>=1.5->mne>=1.3.0->PyPREP) (2.5.0)\n",
            "Requirement already satisfied: certifi>=2017.4.17 in /usr/local/lib/python3.12/dist-packages (from requests>=2.19.0->pooch>=1.5->mne>=1.3.0->PyPREP) (2025.8.3)\n",
            "Downloading pyprep-0.5.0-py3-none-any.whl (34 kB)\n",
            "Installing collected packages: PyPREP\n",
            "Successfully installed PyPREP-0.5.0\n"
          ]
        }
      ]
    },
    {
      "cell_type": "code",
      "source": [
        "!pip install Scipy\n",
        "!pip install Wandb\n",
        "!pip install pyECG\n",
        "\n"
      ],
      "metadata": {
        "colab": {
          "base_uri": "https://localhost:8080/"
        },
        "id": "3-eGbBMgmW1L",
        "outputId": "4890f4cb-36e5-4872-f6d4-cbeaea7655c9"
      },
      "execution_count": null,
      "outputs": [
        {
          "output_type": "stream",
          "name": "stdout",
          "text": [
            "Requirement already satisfied: Scipy in /usr/local/lib/python3.12/dist-packages (1.16.1)\n",
            "Requirement already satisfied: numpy<2.6,>=1.25.2 in /usr/local/lib/python3.12/dist-packages (from Scipy) (2.0.2)\n",
            "Requirement already satisfied: Wandb in /usr/local/lib/python3.12/dist-packages (0.21.3)\n",
            "Requirement already satisfied: click>=8.0.1 in /usr/local/lib/python3.12/dist-packages (from Wandb) (8.2.1)\n",
            "Requirement already satisfied: gitpython!=3.1.29,>=1.0.0 in /usr/local/lib/python3.12/dist-packages (from Wandb) (3.1.45)\n",
            "Requirement already satisfied: packaging in /usr/local/lib/python3.12/dist-packages (from Wandb) (25.0)\n",
            "Requirement already satisfied: platformdirs in /usr/local/lib/python3.12/dist-packages (from Wandb) (4.4.0)\n",
            "Requirement already satisfied: protobuf!=4.21.0,!=5.28.0,<7,>=3.19.0 in /usr/local/lib/python3.12/dist-packages (from Wandb) (5.29.5)\n",
            "Requirement already satisfied: pydantic<3 in /usr/local/lib/python3.12/dist-packages (from Wandb) (2.11.7)\n",
            "Requirement already satisfied: pyyaml in /usr/local/lib/python3.12/dist-packages (from Wandb) (6.0.2)\n",
            "Requirement already satisfied: requests<3,>=2.0.0 in /usr/local/lib/python3.12/dist-packages (from Wandb) (2.32.4)\n",
            "Requirement already satisfied: sentry-sdk>=2.0.0 in /usr/local/lib/python3.12/dist-packages (from Wandb) (2.36.0)\n",
            "Requirement already satisfied: typing-extensions<5,>=4.8 in /usr/local/lib/python3.12/dist-packages (from Wandb) (4.15.0)\n",
            "Requirement already satisfied: gitdb<5,>=4.0.1 in /usr/local/lib/python3.12/dist-packages (from gitpython!=3.1.29,>=1.0.0->Wandb) (4.0.12)\n",
            "Requirement already satisfied: annotated-types>=0.6.0 in /usr/local/lib/python3.12/dist-packages (from pydantic<3->Wandb) (0.7.0)\n",
            "Requirement already satisfied: pydantic-core==2.33.2 in /usr/local/lib/python3.12/dist-packages (from pydantic<3->Wandb) (2.33.2)\n",
            "Requirement already satisfied: typing-inspection>=0.4.0 in /usr/local/lib/python3.12/dist-packages (from pydantic<3->Wandb) (0.4.1)\n",
            "Requirement already satisfied: charset_normalizer<4,>=2 in /usr/local/lib/python3.12/dist-packages (from requests<3,>=2.0.0->Wandb) (3.4.3)\n",
            "Requirement already satisfied: idna<4,>=2.5 in /usr/local/lib/python3.12/dist-packages (from requests<3,>=2.0.0->Wandb) (3.10)\n",
            "Requirement already satisfied: urllib3<3,>=1.21.1 in /usr/local/lib/python3.12/dist-packages (from requests<3,>=2.0.0->Wandb) (2.5.0)\n",
            "Requirement already satisfied: certifi>=2017.4.17 in /usr/local/lib/python3.12/dist-packages (from requests<3,>=2.0.0->Wandb) (2025.8.3)\n",
            "Requirement already satisfied: smmap<6,>=3.0.1 in /usr/local/lib/python3.12/dist-packages (from gitdb<5,>=4.0.1->gitpython!=3.1.29,>=1.0.0->Wandb) (5.0.2)\n",
            "Collecting pyECG\n",
            "  Downloading pyECG-0.0.9.1-py2.py3-none-any.whl.metadata (3.1 kB)\n",
            "Collecting ishneholterlib==2017.4.11 (from pyECG)\n",
            "  Downloading ishneholterlib-2017.4.11.tar.gz (7.0 kB)\n",
            "  Preparing metadata (setup.py) ... \u001b[?25l\u001b[?25hdone\n",
            "Requirement already satisfied: numpy in /usr/local/lib/python3.12/dist-packages (from pyECG) (2.0.2)\n",
            "Collecting wfdb==2.2.1 (from pyECG)\n",
            "  Downloading wfdb-2.2.1.tar.gz (94 kB)\n",
            "\u001b[2K     \u001b[90m━━━━━━━━━━━━━━━━━━━━━━━━━━━━━━━━━━━━━━━━\u001b[0m \u001b[32m94.9/94.9 kB\u001b[0m \u001b[31m3.1 MB/s\u001b[0m eta \u001b[36m0:00:00\u001b[0m\n",
            "\u001b[?25h  Preparing metadata (setup.py) ... \u001b[?25l\u001b[?25hdone\n",
            "Requirement already satisfied: pytest in /usr/local/lib/python3.12/dist-packages (from pyECG) (8.4.2)\n",
            "Collecting pytest-cov (from pyECG)\n",
            "  Downloading pytest_cov-7.0.0-py3-none-any.whl.metadata (31 kB)\n",
            "Collecting PyCRC (from ishneholterlib==2017.4.11->pyECG)\n",
            "  Downloading pycrc-0.11.0-py3-none-any.whl.metadata (2.7 kB)\n",
            "Collecting nose>=1.3.7 (from wfdb==2.2.1->pyECG)\n",
            "  Downloading nose-1.3.7-py3-none-any.whl.metadata (1.7 kB)\n",
            "Requirement already satisfied: matplotlib>=1.5.1 in /usr/local/lib/python3.12/dist-packages (from wfdb==2.2.1->pyECG) (3.10.0)\n",
            "Requirement already satisfied: requests>=2.10.0 in /usr/local/lib/python3.12/dist-packages (from wfdb==2.2.1->pyECG) (2.32.4)\n",
            "Requirement already satisfied: pandas>=0.19.1 in /usr/local/lib/python3.12/dist-packages (from wfdb==2.2.1->pyECG) (2.2.2)\n",
            "Requirement already satisfied: scipy>=0.19.0 in /usr/local/lib/python3.12/dist-packages (from wfdb==2.2.1->pyECG) (1.16.1)\n",
            "Collecting sklearn>=0.0 (from wfdb==2.2.1->pyECG)\n",
            "  Downloading sklearn-0.0.post12.tar.gz (2.6 kB)\n",
            "  \u001b[1;31merror\u001b[0m: \u001b[1msubprocess-exited-with-error\u001b[0m\n",
            "  \n",
            "  \u001b[31m×\u001b[0m \u001b[32mpython setup.py egg_info\u001b[0m did not run successfully.\n",
            "  \u001b[31m│\u001b[0m exit code: \u001b[1;36m1\u001b[0m\n",
            "  \u001b[31m╰─>\u001b[0m See above for output.\n",
            "  \n",
            "  \u001b[1;35mnote\u001b[0m: This error originates from a subprocess, and is likely not a problem with pip.\n",
            "  Preparing metadata (setup.py) ... \u001b[?25l\u001b[?25herror\n",
            "\u001b[1;31merror\u001b[0m: \u001b[1mmetadata-generation-failed\u001b[0m\n",
            "\n",
            "\u001b[31m×\u001b[0m Encountered error while generating package metadata.\n",
            "\u001b[31m╰─>\u001b[0m See above for output.\n",
            "\n",
            "\u001b[1;35mnote\u001b[0m: This is an issue with the package mentioned above, not pip.\n",
            "\u001b[1;36mhint\u001b[0m: See above for details.\n"
          ]
        }
      ]
    },
    {
      "cell_type": "markdown",
      "source": [
        "\n",
        "\n",
        "1.   PyPREP library Python yang digunakan untuk pra-pemrosesan data sinyal elektroensefalografi (EEG). Library ini menyediakan alat untuk otomatisasi tahap pra-pemrosesan seperti mendeteksi kanal buruk, menghilangkan artefak, dan melakukan referensi ulang sinyal EEG. PyPREP sangat berguna dalam penelitian neurosains untuk memastikan data EEG bersih sebelum analisis lebih lanjut.\n",
        "\n",
        "2.   Scipy adalah library open-source untuk komputasi ilmiah dan teknis di Python. Library ini menyediakan berbagai modul untuk optimisasi, aljabar linier, integrasi numerik, interpolasi, pemrosesan sinyal, dan statistik. SciPy dibangun di atas NumPy dan sering digunakan dalam penelitian ilmiah, teknik, dan analisis data.\n",
        "\n",
        "1.   wandb adalah alat untuk pelacakan eksperimen machine learning, visualisasi, dan kolaborasi. Library ini memungkinkan pengguna untuk memantau metrik pelatihan model, hyperparameter, dan hasil eksperimen secara real-time. wandb juga mendukung logging visualisasi, model versioning, dan berbagi hasil dengan tim.\n",
        "\n",
        "2.   pyECG adalah library untuk analisis sinyal elektrokardiografi (ECG). Library ini menyediakan alat untuk memproses, menganalisis, dan mengekstrak fitur dari data ECG, seperti deteksi puncak QRS, analisis variabilitas detak jantung (HRV), dan visualisasi sinyal. Library ini berguna dalam penelitian medis dan pengembangan aplikasi kesehatan.\n",
        "\n",
        "\n",
        "\n"
      ],
      "metadata": {
        "id": "9uYUDWxpm5WE"
      }
    },
    {
      "cell_type": "markdown",
      "source": [
        "# Bagian 2"
      ],
      "metadata": {
        "id": "vRt65dV3pWOE"
      }
    },
    {
      "cell_type": "markdown",
      "source": [
        "\n",
        "\n",
        "1.   Manipulasi Data dengan AI untuk Penipuan: Kasus seperti skandal Volkswagen di mana AI digunakan untuk memanipulasi hasil tes emisi, menyebabkan denda regulasi dan kerusakan reputasi, melanggar hukum lingkungan dan etika transparansi. https://digitaldefynd.com/IQ/top-ai-scandals/\n",
        "2.   Konsumsi Energi Tinggi dan Emisi Karbon: Pelatihan model AI besar membutuhkan listrik setara dengan ribuan rumah tangga, dengan data center AI menyumbang hingga 4,4% dari total konsumsi energi AS pada 2025, yang sebagian besar berasal dari bahan bakar fosil dan meningkatkan emisi gas rumah kaca. Contohnya, Google berencana menghabiskan $75 miliar untuk infrastruktur AI pada 2025, yang dapat memperburuk tekanan pada jaringan listrik dan emisi global. https://yaleclimateconnections.org/2025/09/what-you-need-to-know-about-ai-and-climate-change/, https://www.technologyreview.com/2025/05/20/1116327/ai-energy-usage-climate-footprint-big-tech/\n",
        ". Cara mengatasinya dengan Mengukur dan Mengoptimalkan Emisi. Perusahaan harus mengukur emisi AI secara rutin dan mengoptimalkan workflow, seperti menggunakan model AI yang lebih efisien untuk mengurangi konsumsi energi hingga 50%.\n",
        "\n"
      ],
      "metadata": {
        "id": "YZbU5yutpbkr"
      }
    }
  ]
}